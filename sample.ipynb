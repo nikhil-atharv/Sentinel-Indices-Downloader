{
 "cells": [
  {
   "cell_type": "code",
   "execution_count": 1,
   "id": "233a2ef7",
   "metadata": {},
   "outputs": [],
   "source": [
    "import planetary_computer\n",
    "import pystac_client \n",
    "import stackstac\n",
    "import xrspatial\n",
    "import rioxarray\n",
    "import xarray\n",
    "import geopandas \n",
    "import pandas\n",
    "import os"
   ]
  },
  {
   "cell_type": "code",
   "execution_count": 12,
   "id": "1263c7c7",
   "metadata": {},
   "outputs": [],
   "source": [
    "from urllib.request import urlretrieve"
   ]
  },
  {
   "cell_type": "code",
   "execution_count": 13,
   "id": "0097ba37",
   "metadata": {},
   "outputs": [
    {
     "data": {
      "text/plain": [
       "('SOC_0_to_10_cm.tif', <http.client.HTTPMessage at 0x162175be710>)"
      ]
     },
     "execution_count": 13,
     "metadata": {},
     "output_type": "execute_result"
    }
   ],
   "source": [
    "urlretrieve('https://s3.openlandmap.org/arco/organic.carbon.stock_msa.kgm2_m_250m_b0t10cm_19500101_20171231_go_epsg.4326_v0.2.tif', 'SOC_0_to_10_cm.tif')"
   ]
  },
  {
   "cell_type": "code",
   "execution_count": null,
   "id": "d49554a9",
   "metadata": {},
   "outputs": [],
   "source": []
  }
 ],
 "metadata": {
  "kernelspec": {
   "display_name": "nikhil_geospatial",
   "language": "python",
   "name": "python3"
  },
  "language_info": {
   "codemirror_mode": {
    "name": "ipython",
    "version": 3
   },
   "file_extension": ".py",
   "mimetype": "text/x-python",
   "name": "python",
   "nbconvert_exporter": "python",
   "pygments_lexer": "ipython3",
   "version": "3.13.5"
  }
 },
 "nbformat": 4,
 "nbformat_minor": 5
}
